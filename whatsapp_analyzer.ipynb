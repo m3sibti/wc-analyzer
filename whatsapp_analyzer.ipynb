{
 "cells": [
  {
   "cell_type": "markdown",
   "metadata": {},
   "source": [
    "## Imports"
   ]
  },
  {
   "cell_type": "code",
   "execution_count": 11,
   "metadata": {},
   "outputs": [],
   "source": [
    "import numpy as np\n",
    "import pandas as pd\n",
    "import seaborn as sns\n",
    "import matplotlib.pyplot as plt\n",
    "import re"
   ]
  },
  {
   "cell_type": "markdown",
   "metadata": {},
   "source": [
    "## Preprocessing Data"
   ]
  },
  {
   "cell_type": "code",
   "execution_count": 49,
   "metadata": {},
   "outputs": [],
   "source": [
    "test_path = './data/test_data.txt'\n",
    "# data_path = './data/wc_marya.txt'\n",
    "# data_path = './data/wc_adeel.txt'\n",
    "data_path = './data/wc_amalik.txt'\n",
    "pf_path = './data/wc_p.csv'\n",
    "ff_path = './data/by_pd.csv'"
   ]
  },
  {
   "cell_type": "code",
   "execution_count": 50,
   "metadata": {},
   "outputs": [],
   "source": [
    "# create the list of all the messages pre-processed\n",
    "msg_lists = list()\n",
    "i=0\n",
    "with open(data_path, 'r') as f:\n",
    "    for line in f.readlines():\n",
    "        if re.match(r'./.*/.*, .*- .*:', line) is None:\n",
    "            msg_lists[i-1].append(line)\n",
    "            continue\n",
    "        else:\n",
    "            r2 = line.replace(' - ', ',').replace(': ',',').replace('\\n',' ')\n",
    "            ftrs = r2.split(',')\n",
    "            msg_lists.append(ftrs)\n",
    "            i+=1"
   ]
  },
  {
   "cell_type": "code",
   "execution_count": 51,
   "metadata": {},
   "outputs": [],
   "source": [
    "# write the msgs in csv file\n",
    "with open(pf_path, 'w') as nf:\n",
    "    nf.write('date,time,user,msg\\n')\n",
    "    for li in msg_lists:\n",
    "        # print(len(li))\n",
    "        f_str = \"\".join(li[3:]).strip().replace('\\n',' ').replace(',',':')\n",
    "        nr = f'{li[0]},{li[1].strip()},{li[2]},\"{f_str}\"\\n'\n",
    "        # print(nr)\n",
    "        nf.write(nr)"
   ]
  },
  {
   "cell_type": "code",
   "execution_count": 52,
   "metadata": {},
   "outputs": [],
   "source": [
    "# read that csv\n",
    "chat_data = pd.read_csv(pf_path,\n",
    "                        skipinitialspace=True,\n",
    "                        parse_dates={'datetime': [0, 1]})"
   ]
  },
  {
   "cell_type": "code",
   "execution_count": 53,
   "metadata": {},
   "outputs": [
    {
     "data": {
      "text/plain": "             datetime           user  \\\n0 2019-08-28 02:35:00          Malik   \n1 2019-08-28 02:35:00  SubTain Malik   \n2 2019-08-28 02:36:00  SubTain Malik   \n3 2019-08-28 02:36:00          Malik   \n4 2019-08-28 02:36:00  SubTain Malik   \n\n                                                 msg  \n0                              t ap isy glt adt khty  \n1                             Mtlb mnany ka easy hal  \n2                                           Kxh b ho  \n3                                          sahe sahe  \n4  Thora hot kryn thora seduce kryn r adha ghnta ...  ",
      "text/html": "<div>\n<style scoped>\n    .dataframe tbody tr th:only-of-type {\n        vertical-align: middle;\n    }\n\n    .dataframe tbody tr th {\n        vertical-align: top;\n    }\n\n    .dataframe thead th {\n        text-align: right;\n    }\n</style>\n<table border=\"1\" class=\"dataframe\">\n  <thead>\n    <tr style=\"text-align: right;\">\n      <th></th>\n      <th>datetime</th>\n      <th>user</th>\n      <th>msg</th>\n    </tr>\n  </thead>\n  <tbody>\n    <tr>\n      <th>0</th>\n      <td>2019-08-28 02:35:00</td>\n      <td>Malik</td>\n      <td>t ap isy glt adt khty</td>\n    </tr>\n    <tr>\n      <th>1</th>\n      <td>2019-08-28 02:35:00</td>\n      <td>SubTain Malik</td>\n      <td>Mtlb mnany ka easy hal</td>\n    </tr>\n    <tr>\n      <th>2</th>\n      <td>2019-08-28 02:36:00</td>\n      <td>SubTain Malik</td>\n      <td>Kxh b ho</td>\n    </tr>\n    <tr>\n      <th>3</th>\n      <td>2019-08-28 02:36:00</td>\n      <td>Malik</td>\n      <td>sahe sahe</td>\n    </tr>\n    <tr>\n      <th>4</th>\n      <td>2019-08-28 02:36:00</td>\n      <td>SubTain Malik</td>\n      <td>Thora hot kryn thora seduce kryn r adha ghnta ...</td>\n    </tr>\n  </tbody>\n</table>\n</div>"
     },
     "execution_count": 53,
     "metadata": {},
     "output_type": "execute_result"
    }
   ],
   "source": [
    "chat_data.head()"
   ]
  },
  {
   "cell_type": "code",
   "execution_count": 54,
   "metadata": {},
   "outputs": [],
   "source": [
    "# chat_data\n",
    "# chat_data.loc[18].msg"
   ]
  },
  {
   "cell_type": "code",
   "execution_count": 55,
   "metadata": {},
   "outputs": [],
   "source": [
    "# save the csv by pandas\n",
    "chat_data.to_csv(ff_path, index=False)"
   ]
  },
  {
   "cell_type": "markdown",
   "metadata": {},
   "source": [
    "## Explore the data"
   ]
  },
  {
   "cell_type": "code",
   "execution_count": 56,
   "metadata": {},
   "outputs": [],
   "source": [
    "# read the new_data \n",
    "ff_path = './data/by_pd.csv'\n",
    "chat_data = pd.read_csv(ff_path, parse_dates=['datetime'])"
   ]
  },
  {
   "cell_type": "code",
   "execution_count": 57,
   "metadata": {},
   "outputs": [
    {
     "data": {
      "text/plain": "             datetime           user  \\\n0 2019-08-28 02:35:00          Malik   \n1 2019-08-28 02:35:00  SubTain Malik   \n2 2019-08-28 02:36:00  SubTain Malik   \n3 2019-08-28 02:36:00          Malik   \n4 2019-08-28 02:36:00  SubTain Malik   \n\n                                                 msg  \n0                              t ap isy glt adt khty  \n1                             Mtlb mnany ka easy hal  \n2                                           Kxh b ho  \n3                                          sahe sahe  \n4  Thora hot kryn thora seduce kryn r adha ghnta ...  ",
      "text/html": "<div>\n<style scoped>\n    .dataframe tbody tr th:only-of-type {\n        vertical-align: middle;\n    }\n\n    .dataframe tbody tr th {\n        vertical-align: top;\n    }\n\n    .dataframe thead th {\n        text-align: right;\n    }\n</style>\n<table border=\"1\" class=\"dataframe\">\n  <thead>\n    <tr style=\"text-align: right;\">\n      <th></th>\n      <th>datetime</th>\n      <th>user</th>\n      <th>msg</th>\n    </tr>\n  </thead>\n  <tbody>\n    <tr>\n      <th>0</th>\n      <td>2019-08-28 02:35:00</td>\n      <td>Malik</td>\n      <td>t ap isy glt adt khty</td>\n    </tr>\n    <tr>\n      <th>1</th>\n      <td>2019-08-28 02:35:00</td>\n      <td>SubTain Malik</td>\n      <td>Mtlb mnany ka easy hal</td>\n    </tr>\n    <tr>\n      <th>2</th>\n      <td>2019-08-28 02:36:00</td>\n      <td>SubTain Malik</td>\n      <td>Kxh b ho</td>\n    </tr>\n    <tr>\n      <th>3</th>\n      <td>2019-08-28 02:36:00</td>\n      <td>Malik</td>\n      <td>sahe sahe</td>\n    </tr>\n    <tr>\n      <th>4</th>\n      <td>2019-08-28 02:36:00</td>\n      <td>SubTain Malik</td>\n      <td>Thora hot kryn thora seduce kryn r adha ghnta ...</td>\n    </tr>\n  </tbody>\n</table>\n</div>"
     },
     "execution_count": 57,
     "metadata": {},
     "output_type": "execute_result"
    }
   ],
   "source": [
    "chat_data.head()\n",
    "# chat_data.loc[98]"
   ]
  },
  {
   "cell_type": "code",
   "execution_count": 58,
   "metadata": {},
   "outputs": [
    {
     "name": "stdout",
     "output_type": "stream",
     "text": [
      "<class 'pandas.core.frame.DataFrame'>\n",
      "RangeIndex: 35683 entries, 0 to 35682\n",
      "Data columns (total 3 columns):\n",
      " #   Column    Non-Null Count  Dtype         \n",
      "---  ------    --------------  -----         \n",
      " 0   datetime  35683 non-null  datetime64[ns]\n",
      " 1   user      35683 non-null  object        \n",
      " 2   msg       35683 non-null  object        \n",
      "dtypes: datetime64[ns](1), object(2)\n",
      "memory usage: 836.4+ KB\n"
     ]
    }
   ],
   "source": [
    "# check col infos\n",
    "chat_data.info()"
   ]
  },
  {
   "cell_type": "code",
   "execution_count": 59,
   "metadata": {},
   "outputs": [
    {
     "name": "stderr",
     "output_type": "stream",
     "text": [
      "/Users/m3sibti/opt/anaconda3/envs/whatsapp_analyzer/lib/python3.7/site-packages/ipykernel_launcher.py:2: FutureWarning: Treating datetime data as categorical rather than numeric in `.describe` is deprecated and will be removed in a future version of pandas. Specify `datetime_is_numeric=True` to silence this warning and adopt the future behavior now.\n",
      "  \n"
     ]
    },
    {
     "data": {
      "text/plain": "                   datetime   user    msg\ncount                 35683  35683  35683\nunique                 8318      2  25294\ntop     2020-05-07 12:30:00  Malik      G\nfreq                     31  19516    488\nfirst   2019-08-28 02:35:00    NaN    NaN\nlast    2020-08-29 18:28:00    NaN    NaN",
      "text/html": "<div>\n<style scoped>\n    .dataframe tbody tr th:only-of-type {\n        vertical-align: middle;\n    }\n\n    .dataframe tbody tr th {\n        vertical-align: top;\n    }\n\n    .dataframe thead th {\n        text-align: right;\n    }\n</style>\n<table border=\"1\" class=\"dataframe\">\n  <thead>\n    <tr style=\"text-align: right;\">\n      <th></th>\n      <th>datetime</th>\n      <th>user</th>\n      <th>msg</th>\n    </tr>\n  </thead>\n  <tbody>\n    <tr>\n      <th>count</th>\n      <td>35683</td>\n      <td>35683</td>\n      <td>35683</td>\n    </tr>\n    <tr>\n      <th>unique</th>\n      <td>8318</td>\n      <td>2</td>\n      <td>25294</td>\n    </tr>\n    <tr>\n      <th>top</th>\n      <td>2020-05-07 12:30:00</td>\n      <td>Malik</td>\n      <td>G</td>\n    </tr>\n    <tr>\n      <th>freq</th>\n      <td>31</td>\n      <td>19516</td>\n      <td>488</td>\n    </tr>\n    <tr>\n      <th>first</th>\n      <td>2019-08-28 02:35:00</td>\n      <td>NaN</td>\n      <td>NaN</td>\n    </tr>\n    <tr>\n      <th>last</th>\n      <td>2020-08-29 18:28:00</td>\n      <td>NaN</td>\n      <td>NaN</td>\n    </tr>\n  </tbody>\n</table>\n</div>"
     },
     "execution_count": 59,
     "metadata": {},
     "output_type": "execute_result"
    }
   ],
   "source": [
    "# check useful insights of data\n",
    "chat_data.describe()"
   ]
  },
  {
   "cell_type": "markdown",
   "metadata": {},
   "source": [
    "## Calculate Statistics"
   ]
  },
  {
   "cell_type": "code",
   "execution_count": 60,
   "metadata": {},
   "outputs": [],
   "source": [
    "# msgs by the person\n",
    "chat_data.user.value_counts()\n",
    "# function for time conversion\n",
    "c_time_format = lambda x: x.to_pydatetime().strftime('%d %B %Y, %I:%M %p')"
   ]
  },
  {
   "cell_type": "code",
   "execution_count": 61,
   "metadata": {},
   "outputs": [
    {
     "name": "stderr",
     "output_type": "stream",
     "text": [
      "/Users/m3sibti/opt/anaconda3/envs/whatsapp_analyzer/lib/python3.7/site-packages/ipykernel_launcher.py:1: FutureWarning: Treating datetime data as categorical rather than numeric in `.describe` is deprecated and will be removed in a future version of pandas. Specify `datetime_is_numeric=True` to silence this warning and adopt the future behavior now.\n",
      "  \"\"\"Entry point for launching an IPython kernel.\n"
     ]
    }
   ],
   "source": [
    "details = chat_data.describe()\n",
    "users = list(chat_data.user.unique())\n",
    "user_msgs = chat_data.user.value_counts()\n",
    "\n",
    "total_msgs = details.loc['count'][0]\n",
    "total_msgs_u1 = user_msgs.loc[users[0]]\n",
    "total_msgs_u2 = user_msgs.loc[users[1]]\n",
    "\n",
    "conv_start = c_time_format(details.loc['first'][0])\n",
    "conv_end = c_time_format(details.loc['last'][0])\n",
    "most_msgs_at = c_time_format(details.loc['top'][0])\n",
    "\n",
    "most_sent_msg = details.loc['top'][2]\n",
    "if most_sent_msg.lower() == '<media omitted>':\n",
    "    most_sent_msg = 'Media Files'"
   ]
  },
  {
   "cell_type": "code",
   "execution_count": 62,
   "metadata": {},
   "outputs": [
    {
     "name": "stdout",
     "output_type": "stream",
     "text": [
      "Total Messages: 35683\n",
      "Messages by Malik: 19516\n",
      "Messages by SubTain Malik: 16167\n",
      "Conversation Started: 28 August 2019, 02:35 AM\n",
      "Conversation Ended: 29 August 2020, 06:28 PM\n",
      "Most Sent Messsage: G\n",
      "Most Messages Sent at: 07 May 2020, 12:30 PM\n"
     ]
    }
   ],
   "source": [
    "print(f'Total Messages: {total_msgs}\\nMessages by {users[0]}: {total_msgs_u1}\\nMessages by {users[1]}: {total_msgs_u2}')\n",
    "print(f'Conversation Started: {conv_start}\\nConversation Ended: {conv_end}')\n",
    "print(f'Most Sent Messsage: {most_sent_msg}\\nMost Messages Sent at: {most_msgs_at}')"
   ]
  },
  {
   "cell_type": "code",
   "execution_count": 63,
   "metadata": {},
   "outputs": [],
   "source": [
    "chat_data['msg_len'] = chat_data['msg'].agg(len)\n",
    "longest_msgs = chat_data.groupby('user').msg_len.max()\n",
    "avg_msgs = chat_data.groupby('user').msg_len.mean()"
   ]
  },
  {
   "cell_type": "code",
   "execution_count": 64,
   "metadata": {},
   "outputs": [
    {
     "name": "stdout",
     "output_type": "stream",
     "text": [
      "Longest message by Malik: 2058 Characters\n",
      "Longest message by SubTain Malik: 215496 Characters\n",
      "Average message length by Malik: 20.8 Characters\n",
      "Average message length by SubTain Malik: 32.7 Characters\n",
      "Overall average message length 26.71 Characters\n"
     ]
    },
    {
     "data": {
      "text/plain": "user\nMalik            20.767729\nSubTain Malik    32.658378\nName: msg_len, dtype: float64"
     },
     "execution_count": 64,
     "metadata": {},
     "output_type": "execute_result"
    }
   ],
   "source": [
    "print(f'Longest message by {users[0]}: {longest_msgs[users[0]]} Characters\\\n",
    "\\nLongest message by {users[1]}: {longest_msgs[users[1]]} Characters')\n",
    "print(f'Average message length by {users[0]}: {avg_msgs[users[0]]:.1f} Characters\\\n",
    "\\nAverage message length by {users[1]}: {avg_msgs[users[1]]:.1f} Characters')\n",
    "print(f'Overall average message length {(avg_msgs[users[0]] + avg_msgs[users[1]])/ 2 :.2f} Characters')\n",
    "avg_msgs"
   ]
  },
  {
   "cell_type": "code",
   "execution_count": 65,
   "metadata": {},
   "outputs": [],
   "source": [
    "chat_data['day'] = chat_data['datetime'].dt.day_name()\n",
    "chat_data['week_num'] = chat_data['datetime'].dt.isocalendar().week\n",
    "chat_data['year'] = chat_data['datetime'].dt.year\n",
    "chat_data['time'] = chat_data.datetime - chat_data.datetime.dt.normalize()\n",
    "chat_data['time_spans'] = pd.cut(chat_data.time,\n",
    "                                 bins=5,\n",
    "                                 labels=['Late Night', 'Early Morning', 'Day Time', 'Evening', 'Night'])"
   ]
  },
  {
   "cell_type": "code",
   "execution_count": 66,
   "metadata": {},
   "outputs": [
    {
     "data": {
      "text/plain": "             datetime           user  \\\n0 2019-08-28 02:35:00          Malik   \n1 2019-08-28 02:35:00  SubTain Malik   \n2 2019-08-28 02:36:00  SubTain Malik   \n3 2019-08-28 02:36:00          Malik   \n4 2019-08-28 02:36:00  SubTain Malik   \n\n                                                 msg  msg_len        day  \\\n0                              t ap isy glt adt khty       21  Wednesday   \n1                             Mtlb mnany ka easy hal       22  Wednesday   \n2                                           Kxh b ho        8  Wednesday   \n3                                          sahe sahe        9  Wednesday   \n4  Thora hot kryn thora seduce kryn r adha ghnta ...       73  Wednesday   \n\n   week_num  year            time  time_spans  \n0        35  2019 0 days 02:35:00  Late Night  \n1        35  2019 0 days 02:35:00  Late Night  \n2        35  2019 0 days 02:36:00  Late Night  \n3        35  2019 0 days 02:36:00  Late Night  \n4        35  2019 0 days 02:36:00  Late Night  ",
      "text/html": "<div>\n<style scoped>\n    .dataframe tbody tr th:only-of-type {\n        vertical-align: middle;\n    }\n\n    .dataframe tbody tr th {\n        vertical-align: top;\n    }\n\n    .dataframe thead th {\n        text-align: right;\n    }\n</style>\n<table border=\"1\" class=\"dataframe\">\n  <thead>\n    <tr style=\"text-align: right;\">\n      <th></th>\n      <th>datetime</th>\n      <th>user</th>\n      <th>msg</th>\n      <th>msg_len</th>\n      <th>day</th>\n      <th>week_num</th>\n      <th>year</th>\n      <th>time</th>\n      <th>time_spans</th>\n    </tr>\n  </thead>\n  <tbody>\n    <tr>\n      <th>0</th>\n      <td>2019-08-28 02:35:00</td>\n      <td>Malik</td>\n      <td>t ap isy glt adt khty</td>\n      <td>21</td>\n      <td>Wednesday</td>\n      <td>35</td>\n      <td>2019</td>\n      <td>0 days 02:35:00</td>\n      <td>Late Night</td>\n    </tr>\n    <tr>\n      <th>1</th>\n      <td>2019-08-28 02:35:00</td>\n      <td>SubTain Malik</td>\n      <td>Mtlb mnany ka easy hal</td>\n      <td>22</td>\n      <td>Wednesday</td>\n      <td>35</td>\n      <td>2019</td>\n      <td>0 days 02:35:00</td>\n      <td>Late Night</td>\n    </tr>\n    <tr>\n      <th>2</th>\n      <td>2019-08-28 02:36:00</td>\n      <td>SubTain Malik</td>\n      <td>Kxh b ho</td>\n      <td>8</td>\n      <td>Wednesday</td>\n      <td>35</td>\n      <td>2019</td>\n      <td>0 days 02:36:00</td>\n      <td>Late Night</td>\n    </tr>\n    <tr>\n      <th>3</th>\n      <td>2019-08-28 02:36:00</td>\n      <td>Malik</td>\n      <td>sahe sahe</td>\n      <td>9</td>\n      <td>Wednesday</td>\n      <td>35</td>\n      <td>2019</td>\n      <td>0 days 02:36:00</td>\n      <td>Late Night</td>\n    </tr>\n    <tr>\n      <th>4</th>\n      <td>2019-08-28 02:36:00</td>\n      <td>SubTain Malik</td>\n      <td>Thora hot kryn thora seduce kryn r adha ghnta ...</td>\n      <td>73</td>\n      <td>Wednesday</td>\n      <td>35</td>\n      <td>2019</td>\n      <td>0 days 02:36:00</td>\n      <td>Late Night</td>\n    </tr>\n  </tbody>\n</table>\n</div>"
     },
     "execution_count": 66,
     "metadata": {},
     "output_type": "execute_result"
    }
   ],
   "source": [
    "chat_data.head()"
   ]
  },
  {
   "cell_type": "code",
   "execution_count": 67,
   "metadata": {},
   "outputs": [
    {
     "name": "stdout",
     "output_type": "stream",
     "text": [
      "Messages per Day by Malik:\n",
      "  Thursday:4569\n",
      "  Monday:3313\n",
      "  Wednesday:3226\n",
      "  Sunday:2858\n",
      "  Friday:2076\n",
      "  Saturday:1959\n",
      "  Tuesday:1515\n",
      "\n",
      "Messages per Day by SubTain Malik:\n",
      "  Thursday:3907\n",
      "  Wednesday:3032\n",
      "  Monday:2731\n",
      "  Sunday:2177\n",
      "  Saturday:1593\n",
      "  Friday:1535\n",
      "  Tuesday:1192\n",
      "\n"
     ]
    }
   ],
   "source": [
    "msgs_u_day = chat_data.groupby('user').day.value_counts()\n",
    "for user in users:\n",
    "    print(f'Messages per Day by {user}:')\n",
    "    u_msgs_day = msgs_u_day.loc[user]\n",
    "    for d, num_m in zip(u_msgs_day.index, u_msgs_day):\n",
    "        print(f'  {d}:{num_m}')\n",
    "    print('')"
   ]
  },
  {
   "cell_type": "code",
   "execution_count": 68,
   "metadata": {},
   "outputs": [
    {
     "name": "stdout",
     "output_type": "stream",
     "text": [
      "Mostly talked at: Day Time \"9998\"\n",
      "\n",
      "\n",
      "Messages per Day by Malik:\n",
      "  Day Time:5296\n",
      "  Early Morning:4418\n",
      "  Night:4102\n",
      "  Late Night:3051\n",
      "  Evening:2649\n",
      "\n",
      "Messages per Day by SubTain Malik:\n",
      "  Day Time:4702\n",
      "  Early Morning:3675\n",
      "  Night:3077\n",
      "  Late Night:2755\n",
      "  Evening:1958\n",
      "\n"
     ]
    }
   ],
   "source": [
    "mostly_tm = chat_data.time_spans.value_counts(ascending=False)\n",
    "most_msgs_time = mostly_tm.index[0]\n",
    "most_time_msgs = mostly_tm.iloc[0]\n",
    "print(f'Mostly talked at: {most_msgs_time} \"{most_time_msgs}\"')\n",
    "print('\\n')\n",
    "\n",
    "msgs_u_time = chat_data.groupby('user').time_spans.value_counts()\n",
    "for user in users:\n",
    "    print(f'Messages per Day by {user}:')\n",
    "    u_msgs_time = msgs_u_time.loc[user]\n",
    "    for t, num_m in zip(u_msgs_time.index, u_msgs_time):\n",
    "        print(f'  {t}:{num_m}')\n",
    "    print('')"
   ]
  },
  {
   "cell_type": "code",
   "execution_count": 69,
   "metadata": {},
   "outputs": [
    {
     "name": "stdout",
     "output_type": "stream",
     "text": [
      "Average messages per day: 74.96\n",
      "Longest message at: Sunday Night 07 PM\n"
     ]
    }
   ],
   "source": [
    "avg_msgs_day = chat_data.groupby(['year']).day.value_counts() / 34\n",
    "print(f'Average messages per day: {avg_msgs_day.mean():.2f}')\n",
    "l_msg = chat_data.sort_values(by='msg_len', ascending=False).iloc[0]\n",
    "print(f'Longest message at: {l_msg.day} '\\\n",
    "      f'{l_msg.time_spans} {l_msg.datetime.strftime(\"%I %p\")}')"
   ]
  },
  {
   "cell_type": "code",
   "execution_count": null,
   "metadata": {},
   "outputs": [],
   "source": []
  },
  {
   "cell_type": "markdown",
   "metadata": {},
   "source": [
    "**Features to add**\n",
    "* TONE IN MSGS (happy sad angry (bar chart of users) NLP {Sentiment Analysis})"
   ]
  }
 ],
 "metadata": {
  "kernelspec": {
   "display_name": "Python 3",
   "language": "python",
   "name": "python3"
  },
  "language_info": {
   "codemirror_mode": {
    "name": "ipython",
    "version": 3
   },
   "file_extension": ".py",
   "mimetype": "text/x-python",
   "name": "python",
   "nbconvert_exporter": "python",
   "pygments_lexer": "ipython3",
   "version": "3.7.7"
  }
 },
 "nbformat": 4,
 "nbformat_minor": 4
}