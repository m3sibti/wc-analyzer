{
 "cells": [
  {
   "cell_type": "markdown",
   "metadata": {},
   "source": [
    "## Imports"
   ]
  },
  {
   "cell_type": "code",
   "execution_count": 226,
   "metadata": {},
   "outputs": [],
   "source": [
    "import numpy as np\n",
    "import pandas as pd\n",
    "import seaborn as sns\n",
    "import matplotlib.pyplot as plt\n",
    "import re"
   ]
  },
  {
   "cell_type": "markdown",
   "metadata": {},
   "source": [
    "## Preprocessing Data"
   ]
  },
  {
   "cell_type": "code",
   "execution_count": 227,
   "metadata": {},
   "outputs": [],
   "source": [
    "test_path = './data/test_data.txt'\n",
    "data_path = './data/wc_marya.txt'\n",
    "# data_path = './data/wc_adeel.txt'\n",
    "# data_path = './data/wc_amalik.txt'\n",
    "pf_path = './data/wc_p.csv'\n",
    "ff_path = './data/by_pd.csv'"
   ]
  },
  {
   "cell_type": "code",
   "execution_count": 228,
   "metadata": {},
   "outputs": [],
   "source": [
    "# create the list of all the messages pre-processed\n",
    "msg_lists = list()\n",
    "i=0\n",
    "with open(data_path, 'r') as f:\n",
    "    for line in f.readlines():\n",
    "        if re.match(r'./.*/.*, .*- .*:', line) is None:\n",
    "            msg_lists[i-1].append(line)\n",
    "            continue\n",
    "        else:\n",
    "            r2 = line.replace(' - ', ',').replace(': ',',').replace('\\n',' ')\n",
    "            ftrs = r2.split(',')\n",
    "            msg_lists.append(ftrs)\n",
    "            i+=1"
   ]
  },
  {
   "cell_type": "code",
   "execution_count": 229,
   "metadata": {},
   "outputs": [],
   "source": [
    "# write the msgs in csv file\n",
    "with open(pf_path, 'w') as nf:\n",
    "    nf.write('date,time,user,msg\\n')\n",
    "    for li in msg_lists:\n",
    "        # print(len(li))\n",
    "        f_str = \"\".join(li[3:]).strip().replace('\\n',' ').replace(',',':')\n",
    "        nr = f'{li[0]},{li[1].strip()},{li[2]},\"{f_str}\"\\n'\n",
    "        # print(nr)\n",
    "        nf.write(nr)"
   ]
  },
  {
   "cell_type": "code",
   "execution_count": 230,
   "metadata": {},
   "outputs": [],
   "source": [
    "# read that csv\n",
    "chat_data = pd.read_csv(pf_path,\n",
    "                        skipinitialspace=True,\n",
    "                        parse_dates={'datetime': [0, 1]})"
   ]
  },
  {
   "cell_type": "code",
   "execution_count": 231,
   "metadata": {},
   "outputs": [
    {
     "data": {
      "text/html": [
       "<div>\n",
       "<style scoped>\n",
       "    .dataframe tbody tr th:only-of-type {\n",
       "        vertical-align: middle;\n",
       "    }\n",
       "\n",
       "    .dataframe tbody tr th {\n",
       "        vertical-align: top;\n",
       "    }\n",
       "\n",
       "    .dataframe thead th {\n",
       "        text-align: right;\n",
       "    }\n",
       "</style>\n",
       "<table border=\"1\" class=\"dataframe\">\n",
       "  <thead>\n",
       "    <tr style=\"text-align: right;\">\n",
       "      <th></th>\n",
       "      <th>datetime</th>\n",
       "      <th>user</th>\n",
       "      <th>msg</th>\n",
       "    </tr>\n",
       "  </thead>\n",
       "  <tbody>\n",
       "    <tr>\n",
       "      <th>0</th>\n",
       "      <td>2020-01-06 14:46:00</td>\n",
       "      <td>Marya NUST-Uni</td>\n",
       "      <td>Poochti hoon</td>\n",
       "    </tr>\n",
       "    <tr>\n",
       "      <th>1</th>\n",
       "      <td>2020-01-06 14:46:00</td>\n",
       "      <td>Marya NUST-Uni</td>\n",
       "      <td>Poochke tumhe bataun?</td>\n",
       "    </tr>\n",
       "    <tr>\n",
       "      <th>2</th>\n",
       "      <td>2020-01-06 14:46:00</td>\n",
       "      <td>SubTain Malik</td>\n",
       "      <td>R diltaj se b</td>\n",
       "    </tr>\n",
       "    <tr>\n",
       "      <th>3</th>\n",
       "      <td>2020-01-06 14:46:00</td>\n",
       "      <td>SubTain Malik</td>\n",
       "      <td>G</td>\n",
       "    </tr>\n",
       "    <tr>\n",
       "      <th>4</th>\n",
       "      <td>2020-01-06 14:46:00</td>\n",
       "      <td>Marya NUST-Uni</td>\n",
       "      <td>Okay</td>\n",
       "    </tr>\n",
       "  </tbody>\n",
       "</table>\n",
       "</div>"
      ],
      "text/plain": [
       "             datetime            user                    msg\n",
       "0 2020-01-06 14:46:00  Marya NUST-Uni           Poochti hoon\n",
       "1 2020-01-06 14:46:00  Marya NUST-Uni  Poochke tumhe bataun?\n",
       "2 2020-01-06 14:46:00   SubTain Malik          R diltaj se b\n",
       "3 2020-01-06 14:46:00   SubTain Malik                      G\n",
       "4 2020-01-06 14:46:00  Marya NUST-Uni                   Okay"
      ]
     },
     "execution_count": 231,
     "metadata": {},
     "output_type": "execute_result"
    }
   ],
   "source": [
    "chat_data.head()"
   ]
  },
  {
   "cell_type": "code",
   "execution_count": 232,
   "metadata": {},
   "outputs": [],
   "source": [
    "# chat_data\n",
    "# chat_data.loc[18].msg"
   ]
  },
  {
   "cell_type": "code",
   "execution_count": 233,
   "metadata": {},
   "outputs": [],
   "source": [
    "# save the csv by pandas\n",
    "chat_data.to_csv(ff_path, index=False)"
   ]
  },
  {
   "cell_type": "markdown",
   "metadata": {},
   "source": [
    "## Explore the data"
   ]
  },
  {
   "cell_type": "code",
   "execution_count": 234,
   "metadata": {},
   "outputs": [],
   "source": [
    "# read the new_data \n",
    "ff_path = './data/by_pd.csv'\n",
    "chat_data = pd.read_csv(ff_path, parse_dates=['datetime'])"
   ]
  },
  {
   "cell_type": "code",
   "execution_count": 235,
   "metadata": {},
   "outputs": [
    {
     "data": {
      "text/html": [
       "<div>\n",
       "<style scoped>\n",
       "    .dataframe tbody tr th:only-of-type {\n",
       "        vertical-align: middle;\n",
       "    }\n",
       "\n",
       "    .dataframe tbody tr th {\n",
       "        vertical-align: top;\n",
       "    }\n",
       "\n",
       "    .dataframe thead th {\n",
       "        text-align: right;\n",
       "    }\n",
       "</style>\n",
       "<table border=\"1\" class=\"dataframe\">\n",
       "  <thead>\n",
       "    <tr style=\"text-align: right;\">\n",
       "      <th></th>\n",
       "      <th>datetime</th>\n",
       "      <th>user</th>\n",
       "      <th>msg</th>\n",
       "    </tr>\n",
       "  </thead>\n",
       "  <tbody>\n",
       "    <tr>\n",
       "      <th>0</th>\n",
       "      <td>2020-01-06 14:46:00</td>\n",
       "      <td>Marya NUST-Uni</td>\n",
       "      <td>Poochti hoon</td>\n",
       "    </tr>\n",
       "    <tr>\n",
       "      <th>1</th>\n",
       "      <td>2020-01-06 14:46:00</td>\n",
       "      <td>Marya NUST-Uni</td>\n",
       "      <td>Poochke tumhe bataun?</td>\n",
       "    </tr>\n",
       "    <tr>\n",
       "      <th>2</th>\n",
       "      <td>2020-01-06 14:46:00</td>\n",
       "      <td>SubTain Malik</td>\n",
       "      <td>R diltaj se b</td>\n",
       "    </tr>\n",
       "    <tr>\n",
       "      <th>3</th>\n",
       "      <td>2020-01-06 14:46:00</td>\n",
       "      <td>SubTain Malik</td>\n",
       "      <td>G</td>\n",
       "    </tr>\n",
       "    <tr>\n",
       "      <th>4</th>\n",
       "      <td>2020-01-06 14:46:00</td>\n",
       "      <td>Marya NUST-Uni</td>\n",
       "      <td>Okay</td>\n",
       "    </tr>\n",
       "  </tbody>\n",
       "</table>\n",
       "</div>"
      ],
      "text/plain": [
       "             datetime            user                    msg\n",
       "0 2020-01-06 14:46:00  Marya NUST-Uni           Poochti hoon\n",
       "1 2020-01-06 14:46:00  Marya NUST-Uni  Poochke tumhe bataun?\n",
       "2 2020-01-06 14:46:00   SubTain Malik          R diltaj se b\n",
       "3 2020-01-06 14:46:00   SubTain Malik                      G\n",
       "4 2020-01-06 14:46:00  Marya NUST-Uni                   Okay"
      ]
     },
     "execution_count": 235,
     "metadata": {},
     "output_type": "execute_result"
    }
   ],
   "source": [
    "chat_data.head()\n",
    "# chat_data.loc[98]"
   ]
  },
  {
   "cell_type": "code",
   "execution_count": 236,
   "metadata": {},
   "outputs": [
    {
     "name": "stdout",
     "output_type": "stream",
     "text": [
      "<class 'pandas.core.frame.DataFrame'>\n",
      "RangeIndex: 39999 entries, 0 to 39998\n",
      "Data columns (total 3 columns):\n",
      " #   Column    Non-Null Count  Dtype         \n",
      "---  ------    --------------  -----         \n",
      " 0   datetime  39999 non-null  datetime64[ns]\n",
      " 1   user      39999 non-null  object        \n",
      " 2   msg       39999 non-null  object        \n",
      "dtypes: datetime64[ns](1), object(2)\n",
      "memory usage: 937.6+ KB\n"
     ]
    }
   ],
   "source": [
    "# check col infos\n",
    "chat_data.info()"
   ]
  },
  {
   "cell_type": "code",
   "execution_count": 237,
   "metadata": {},
   "outputs": [
    {
     "name": "stderr",
     "output_type": "stream",
     "text": [
      "/Users/m3sibti/opt/anaconda3/envs/whatsapp_analyzer/lib/python3.7/site-packages/ipykernel_launcher.py:2: FutureWarning: Treating datetime data as categorical rather than numeric in `.describe` is deprecated and will be removed in a future version of pandas. Specify `datetime_is_numeric=True` to silence this warning and adopt the future behavior now.\n",
      "  \n"
     ]
    },
    {
     "data": {
      "text/html": [
       "<div>\n",
       "<style scoped>\n",
       "    .dataframe tbody tr th:only-of-type {\n",
       "        vertical-align: middle;\n",
       "    }\n",
       "\n",
       "    .dataframe tbody tr th {\n",
       "        vertical-align: top;\n",
       "    }\n",
       "\n",
       "    .dataframe thead th {\n",
       "        text-align: right;\n",
       "    }\n",
       "</style>\n",
       "<table border=\"1\" class=\"dataframe\">\n",
       "  <thead>\n",
       "    <tr style=\"text-align: right;\">\n",
       "      <th></th>\n",
       "      <th>datetime</th>\n",
       "      <th>user</th>\n",
       "      <th>msg</th>\n",
       "    </tr>\n",
       "  </thead>\n",
       "  <tbody>\n",
       "    <tr>\n",
       "      <th>count</th>\n",
       "      <td>39999</td>\n",
       "      <td>39999</td>\n",
       "      <td>39999</td>\n",
       "    </tr>\n",
       "    <tr>\n",
       "      <th>unique</th>\n",
       "      <td>11615</td>\n",
       "      <td>2</td>\n",
       "      <td>27138</td>\n",
       "    </tr>\n",
       "    <tr>\n",
       "      <th>top</th>\n",
       "      <td>2020-03-29 06:47:00</td>\n",
       "      <td>SubTain Malik</td>\n",
       "      <td>Muuuuuwwwaaaaahhhhhhhhhhhhhh</td>\n",
       "    </tr>\n",
       "    <tr>\n",
       "      <th>freq</th>\n",
       "      <td>23</td>\n",
       "      <td>23365</td>\n",
       "      <td>603</td>\n",
       "    </tr>\n",
       "    <tr>\n",
       "      <th>first</th>\n",
       "      <td>2020-01-06 14:46:00</td>\n",
       "      <td>NaN</td>\n",
       "      <td>NaN</td>\n",
       "    </tr>\n",
       "    <tr>\n",
       "      <th>last</th>\n",
       "      <td>2020-08-22 17:32:00</td>\n",
       "      <td>NaN</td>\n",
       "      <td>NaN</td>\n",
       "    </tr>\n",
       "  </tbody>\n",
       "</table>\n",
       "</div>"
      ],
      "text/plain": [
       "                   datetime           user                           msg\n",
       "count                 39999          39999                         39999\n",
       "unique                11615              2                         27138\n",
       "top     2020-03-29 06:47:00  SubTain Malik  Muuuuuwwwaaaaahhhhhhhhhhhhhh\n",
       "freq                     23          23365                           603\n",
       "first   2020-01-06 14:46:00            NaN                           NaN\n",
       "last    2020-08-22 17:32:00            NaN                           NaN"
      ]
     },
     "execution_count": 237,
     "metadata": {},
     "output_type": "execute_result"
    }
   ],
   "source": [
    "# check useful insights of data\n",
    "chat_data.describe()"
   ]
  },
  {
   "cell_type": "markdown",
   "metadata": {},
   "source": [
    "## Calculate Statistics"
   ]
  },
  {
   "cell_type": "code",
   "execution_count": 238,
   "metadata": {},
   "outputs": [],
   "source": [
    "# msgs by the person\n",
    "chat_data.user.value_counts()\n",
    "# function for time conversion\n",
    "c_time_format = lambda x: x.to_pydatetime().strftime('%d %B %Y, %I:%M %p')"
   ]
  },
  {
   "cell_type": "code",
   "execution_count": 239,
   "metadata": {},
   "outputs": [
    {
     "name": "stderr",
     "output_type": "stream",
     "text": [
      "/Users/m3sibti/opt/anaconda3/envs/whatsapp_analyzer/lib/python3.7/site-packages/ipykernel_launcher.py:1: FutureWarning: Treating datetime data as categorical rather than numeric in `.describe` is deprecated and will be removed in a future version of pandas. Specify `datetime_is_numeric=True` to silence this warning and adopt the future behavior now.\n",
      "  \"\"\"Entry point for launching an IPython kernel.\n"
     ]
    }
   ],
   "source": [
    "details = chat_data.describe()\n",
    "users = list(chat_data.user.unique())\n",
    "user_msgs = chat_data.user.value_counts()\n",
    "\n",
    "total_msgs = details.loc['count'][0]\n",
    "total_msgs_u1 = user_msgs.loc[users[0]]\n",
    "total_msgs_u2 = user_msgs.loc[users[1]]\n",
    "\n",
    "conv_start = c_time_format(details.loc['first'][0])\n",
    "conv_end = c_time_format(details.loc['last'][0])\n",
    "most_msgs_at = c_time_format(details.loc['top'][0])\n",
    "\n",
    "most_sent_msg = details.loc['top'][2]\n",
    "if most_sent_msg.lower() == '<media omitted>':\n",
    "    most_sent_msg = 'Media Files'"
   ]
  },
  {
   "cell_type": "code",
   "execution_count": 240,
   "metadata": {},
   "outputs": [
    {
     "name": "stdout",
     "output_type": "stream",
     "text": [
      "Total Messages: 39999\n",
      "Messages by Marya NUST-Uni: 16634\n",
      "Messages by SubTain Malik: 23365\n",
      "Conversation Started: 06 January 2020, 02:46 PM\n",
      "Conversation Ended: 22 August 2020, 05:32 PM\n",
      "Most Sent Messsage: Muuuuuwwwaaaaahhhhhhhhhhhhhh\n",
      "Most Messages Sent at: 29 March 2020, 06:47 AM\n"
     ]
    }
   ],
   "source": [
    "print(f'Total Messages: {total_msgs}\\nMessages by {users[0]}: {total_msgs_u1}\\nMessages by {users[1]}: {total_msgs_u2}')\n",
    "print(f'Conversation Started: {conv_start}\\nConversation Ended: {conv_end}')\n",
    "print(f'Most Sent Messsage: {most_sent_msg}\\nMost Messages Sent at: {most_msgs_at}')"
   ]
  },
  {
   "cell_type": "code",
   "execution_count": 241,
   "metadata": {},
   "outputs": [],
   "source": [
    "chat_data['msg_len'] = chat_data['msg'].agg(len)\n",
    "longest_msgs = chat_data.groupby('user').msg_len.max()\n",
    "avg_msgs = chat_data.groupby('user').msg_len.mean()"
   ]
  },
  {
   "cell_type": "code",
   "execution_count": 242,
   "metadata": {},
   "outputs": [
    {
     "name": "stdout",
     "output_type": "stream",
     "text": [
      "Longest message by Marya NUST-Uni: 226 Characters\n",
      "Longest message by SubTain Malik: 2220 Characters\n",
      "Average message length by Marya NUST-Uni: 21.5 Characters\n",
      "Average message length by SubTain Malik: 23.9 Characters\n",
      "Overall average message length 22.74 Characters\n"
     ]
    },
    {
     "data": {
      "text/plain": [
       "user\n",
       "Marya NUST-Uni    21.547673\n",
       "SubTain Malik     23.933661\n",
       "Name: msg_len, dtype: float64"
      ]
     },
     "execution_count": 242,
     "metadata": {},
     "output_type": "execute_result"
    }
   ],
   "source": [
    "print(f'Longest message by {users[0]}: {longest_msgs[users[0]]} Characters\\\n",
    "\\nLongest message by {users[1]}: {longest_msgs[users[1]]} Characters')\n",
    "print(f'Average message length by {users[0]}: {avg_msgs[users[0]]:.1f} Characters\\\n",
    "\\nAverage message length by {users[1]}: {avg_msgs[users[1]]:.1f} Characters')\n",
    "print(f'Overall average message length {(avg_msgs[users[0]] + avg_msgs[users[1]])/ 2 :.2f} Characters')\n",
    "avg_msgs"
   ]
  },
  {
   "cell_type": "code",
   "execution_count": 243,
   "metadata": {},
   "outputs": [],
   "source": [
    "chat_data['day'] = chat_data['datetime'].dt.day_name()\n",
    "chat_data['week_num'] = chat_data['datetime'].dt.isocalendar().week\n",
    "chat_data['year'] = chat_data['datetime'].dt.year\n",
    "chat_data['time'] = chat_data.datetime - chat_data.datetime.dt.normalize()\n",
    "chat_data['time_spans'] = pd.cut(chat_data.time,\n",
    "                                 bins=5,\n",
    "                                 labels=['Late Night', 'Early Morning', 'Day Time', 'Evening', 'Night'])"
   ]
  },
  {
   "cell_type": "code",
   "execution_count": 244,
   "metadata": {},
   "outputs": [
    {
     "data": {
      "text/html": [
       "<div>\n",
       "<style scoped>\n",
       "    .dataframe tbody tr th:only-of-type {\n",
       "        vertical-align: middle;\n",
       "    }\n",
       "\n",
       "    .dataframe tbody tr th {\n",
       "        vertical-align: top;\n",
       "    }\n",
       "\n",
       "    .dataframe thead th {\n",
       "        text-align: right;\n",
       "    }\n",
       "</style>\n",
       "<table border=\"1\" class=\"dataframe\">\n",
       "  <thead>\n",
       "    <tr style=\"text-align: right;\">\n",
       "      <th></th>\n",
       "      <th>datetime</th>\n",
       "      <th>user</th>\n",
       "      <th>msg</th>\n",
       "      <th>msg_len</th>\n",
       "      <th>day</th>\n",
       "      <th>week_num</th>\n",
       "      <th>year</th>\n",
       "      <th>time</th>\n",
       "      <th>time_spans</th>\n",
       "    </tr>\n",
       "  </thead>\n",
       "  <tbody>\n",
       "    <tr>\n",
       "      <th>0</th>\n",
       "      <td>2020-01-06 14:46:00</td>\n",
       "      <td>Marya NUST-Uni</td>\n",
       "      <td>Poochti hoon</td>\n",
       "      <td>12</td>\n",
       "      <td>Monday</td>\n",
       "      <td>2</td>\n",
       "      <td>2020</td>\n",
       "      <td>0 days 14:46:00</td>\n",
       "      <td>Evening</td>\n",
       "    </tr>\n",
       "    <tr>\n",
       "      <th>1</th>\n",
       "      <td>2020-01-06 14:46:00</td>\n",
       "      <td>Marya NUST-Uni</td>\n",
       "      <td>Poochke tumhe bataun?</td>\n",
       "      <td>21</td>\n",
       "      <td>Monday</td>\n",
       "      <td>2</td>\n",
       "      <td>2020</td>\n",
       "      <td>0 days 14:46:00</td>\n",
       "      <td>Evening</td>\n",
       "    </tr>\n",
       "    <tr>\n",
       "      <th>2</th>\n",
       "      <td>2020-01-06 14:46:00</td>\n",
       "      <td>SubTain Malik</td>\n",
       "      <td>R diltaj se b</td>\n",
       "      <td>13</td>\n",
       "      <td>Monday</td>\n",
       "      <td>2</td>\n",
       "      <td>2020</td>\n",
       "      <td>0 days 14:46:00</td>\n",
       "      <td>Evening</td>\n",
       "    </tr>\n",
       "    <tr>\n",
       "      <th>3</th>\n",
       "      <td>2020-01-06 14:46:00</td>\n",
       "      <td>SubTain Malik</td>\n",
       "      <td>G</td>\n",
       "      <td>1</td>\n",
       "      <td>Monday</td>\n",
       "      <td>2</td>\n",
       "      <td>2020</td>\n",
       "      <td>0 days 14:46:00</td>\n",
       "      <td>Evening</td>\n",
       "    </tr>\n",
       "    <tr>\n",
       "      <th>4</th>\n",
       "      <td>2020-01-06 14:46:00</td>\n",
       "      <td>Marya NUST-Uni</td>\n",
       "      <td>Okay</td>\n",
       "      <td>4</td>\n",
       "      <td>Monday</td>\n",
       "      <td>2</td>\n",
       "      <td>2020</td>\n",
       "      <td>0 days 14:46:00</td>\n",
       "      <td>Evening</td>\n",
       "    </tr>\n",
       "  </tbody>\n",
       "</table>\n",
       "</div>"
      ],
      "text/plain": [
       "             datetime            user                    msg  msg_len     day  \\\n",
       "0 2020-01-06 14:46:00  Marya NUST-Uni           Poochti hoon       12  Monday   \n",
       "1 2020-01-06 14:46:00  Marya NUST-Uni  Poochke tumhe bataun?       21  Monday   \n",
       "2 2020-01-06 14:46:00   SubTain Malik          R diltaj se b       13  Monday   \n",
       "3 2020-01-06 14:46:00   SubTain Malik                      G        1  Monday   \n",
       "4 2020-01-06 14:46:00  Marya NUST-Uni                   Okay        4  Monday   \n",
       "\n",
       "   week_num  year            time time_spans  \n",
       "0         2  2020 0 days 14:46:00    Evening  \n",
       "1         2  2020 0 days 14:46:00    Evening  \n",
       "2         2  2020 0 days 14:46:00    Evening  \n",
       "3         2  2020 0 days 14:46:00    Evening  \n",
       "4         2  2020 0 days 14:46:00    Evening  "
      ]
     },
     "execution_count": 244,
     "metadata": {},
     "output_type": "execute_result"
    }
   ],
   "source": [
    "chat_data.head()"
   ]
  },
  {
   "cell_type": "code",
   "execution_count": 249,
   "metadata": {},
   "outputs": [
    {
     "name": "stdout",
     "output_type": "stream",
     "text": [
      "Messages per Day by Marya NUST-Uni:\n",
      "  Friday:3087\n",
      "  Monday:2816\n",
      "  Saturday:2774\n",
      "  Sunday:2448\n",
      "  Thursday:2134\n",
      "  Wednesday:1760\n",
      "  Tuesday:1615\n",
      "\n",
      "Messages per Day by SubTain Malik:\n",
      "  Friday:4230\n",
      "  Monday:4059\n",
      "  Saturday:3981\n",
      "  Sunday:3401\n",
      "  Thursday:3056\n",
      "  Wednesday:2379\n",
      "  Tuesday:2259\n",
      "\n"
     ]
    }
   ],
   "source": [
    "msgs_u_day = chat_data.groupby('user').day.value_counts()\n",
    "for user in users:\n",
    "    print(f'Messages per Day by {user}:')\n",
    "    u_msgs_day = msgs_u_day.loc[user]\n",
    "    for d, num_m in zip(u_msgs_day.index, u_msgs_day):\n",
    "        print(f'  {d}:{num_m}')\n",
    "    print('')"
   ]
  },
  {
   "cell_type": "code",
   "execution_count": 250,
   "metadata": {},
   "outputs": [
    {
     "name": "stdout",
     "output_type": "stream",
     "text": [
      "Mostly talked at: Early Morning \"11712\"\n",
      "\n",
      "\n",
      "Messages per Day by Marya NUST-Uni:\n",
      "  Early Morning:4866\n",
      "  Day Time:4629\n",
      "  Night:3154\n",
      "  Evening:2935\n",
      "  Late Night:1050\n",
      "\n",
      "Messages per Day by SubTain Malik:\n",
      "  Early Morning:6846\n",
      "  Day Time:6528\n",
      "  Evening:4119\n",
      "  Night:4119\n",
      "  Late Night:1753\n",
      "\n"
     ]
    }
   ],
   "source": [
    "mostly_tm = chat_data.time_spans.value_counts(ascending=False)\n",
    "most_msgs_time = mostly_tm.index[0]\n",
    "most_time_msgs = mostly_tm.iloc[0]\n",
    "print(f'Mostly talked at: {most_msgs_time} \"{most_time_msgs}\"')\n",
    "print('\\n')\n",
    "msgs_u_time = chat_data.groupby('user').time_spans.value_counts()\n",
    "for user in users:\n",
    "    print(f'Messages per Day by {user}:')\n",
    "    u_msgs_time = msgs_u_time.loc[user]\n",
    "    for t, num_m in zip(u_msgs_time.index, u_msgs_time):\n",
    "        print(f'  {t}:{num_m}')\n",
    "    print('')"
   ]
  },
  {
   "cell_type": "code",
   "execution_count": 251,
   "metadata": {},
   "outputs": [
    {
     "name": "stdout",
     "output_type": "stream",
     "text": [
      "Average messages per day: 168.06\n",
      "Longest message at: Friday Late Night 04 AM\n"
     ]
    }
   ],
   "source": [
    "avg_msgs_day = chat_data.groupby(['year']).day.value_counts() / 34\n",
    "print(f'Average messages per day: {avg_msgs_day.mean():.2f}')\n",
    "l_msg = chat_data.sort_values(by='msg_len', ascending=False).iloc[0]\n",
    "print(f'Longest message at: {l_msg.day} '\\\n",
    "      f'{l_msg.time_spans} {l_msg.datetime.strftime(\"%I %p\")}')"
   ]
  },
  {
   "cell_type": "code",
   "execution_count": null,
   "metadata": {},
   "outputs": [],
   "source": []
  },
  {
   "cell_type": "markdown",
   "metadata": {},
   "source": [
    "**Features to add**\n",
    "* TONE IN MSGS (happy sad angry (bar chart of users) NLP {Sentiment Analysis})"
   ]
  }
 ],
 "metadata": {
  "kernelspec": {
   "display_name": "Python 3",
   "language": "python",
   "name": "python3"
  },
  "language_info": {
   "codemirror_mode": {
    "name": "ipython",
    "version": 3
   },
   "file_extension": ".py",
   "mimetype": "text/x-python",
   "name": "python",
   "nbconvert_exporter": "python",
   "pygments_lexer": "ipython3",
   "version": "3.7.7"
  }
 },
 "nbformat": 4,
 "nbformat_minor": 4
}
